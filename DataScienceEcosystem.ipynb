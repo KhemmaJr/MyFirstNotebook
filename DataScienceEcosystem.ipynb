{
 "cells": [
  {
   "cell_type": "markdown",
   "id": "04c2e715-8a9f-422a-8ab2-75768bfd92e1",
   "metadata": {
    "tags": []
   },
   "source": [
    "# Data Science Tools and Ecosystem"
   ]
  },
  {
   "cell_type": "markdown",
   "id": "d0dc15ca-5898-4d26-acbc-44c4c904a277",
   "metadata": {
    "tags": []
   },
   "source": [
    "In this notebook, Data Science Tools and Ecosystem are summarized"
   ]
  },
  {
   "cell_type": "markdown",
   "id": "77b4c43f-e189-497b-9400-1cb51c67427b",
   "metadata": {},
   "source": [
    "**Objectives:**\n",
    "* List Popular languages for Data Science.\n",
    "* List Popular Libraries for Data Science.\n",
    "* Sample of Multiply and add in Python.\n",
    "* Convert Hours to Minutes in Python."
   ]
  },
  {
   "cell_type": "markdown",
   "id": "56d453bf-6f12-4bbd-b032-561b08396c82",
   "metadata": {},
   "source": [
    "Some of the popular languages that Data Scientists use are:\n",
    "1. Python\n",
    "1. R\n",
    "1. SQL\n",
    "1. Scala\n"
   ]
  },
  {
   "cell_type": "markdown",
   "id": "82f3e4ac-b036-4880-8142-d498b51a7753",
   "metadata": {},
   "source": [
    "Some of the commonly used libraries used by Data Scientist include:\n",
    "1. Pandas\n",
    "1. Numpy\n",
    "1. Scikit-learn\n",
    "1. Keras\n",
    "1. Tensorflow"
   ]
  },
  {
   "cell_type": "markdown",
   "id": "db5e1738-e2ad-47f4-aa89-cfaad13c66a8",
   "metadata": {},
   "source": [
    "|Data Science Tools|\n",
    "|---|\n",
    "| Jupyter Notebooks |\n",
    "| RStudio  |\n",
    "| Anaconda |"
   ]
  },
  {
   "cell_type": "markdown",
   "id": "4d0d484e-50a4-46f1-8d2e-cd1843886db5",
   "metadata": {},
   "source": [
    "### Below are few examples of evaluating arithmetic expressions in Python."
   ]
  },
  {
   "cell_type": "code",
   "execution_count": 3,
   "id": "a08e263f-7a98-423d-8921-54231dc05c1f",
   "metadata": {
    "tags": []
   },
   "outputs": [
    {
     "data": {
      "text/plain": [
       "17"
      ]
     },
     "execution_count": 3,
     "metadata": {},
     "output_type": "execute_result"
    }
   ],
   "source": [
    "# This a simple arithmetic expression to multiply then add integers\n",
    "(3*4)+5"
   ]
  },
  {
   "cell_type": "code",
   "execution_count": 4,
   "id": "9d3c123b-c83c-48ce-8043-dde53f326eca",
   "metadata": {
    "tags": []
   },
   "outputs": [
    {
     "data": {
      "text/plain": [
       "3.3333333333333335"
      ]
     },
     "execution_count": 4,
     "metadata": {},
     "output_type": "execute_result"
    }
   ],
   "source": [
    "# This will convert 200 minutes to hours by diving by 60\n",
    "200/60"
   ]
  },
  {
   "cell_type": "markdown",
   "id": "91744143-8b23-440c-83a4-b1e9dbddf506",
   "metadata": {},
   "source": [
    "## Author\n",
    "José María López Luévano"
   ]
  },
  {
   "cell_type": "code",
   "execution_count": null,
   "id": "90a35f2a-9409-4142-945e-0cc3fa97f95b",
   "metadata": {},
   "outputs": [],
   "source": []
  }
 ],
 "metadata": {
  "kernelspec": {
   "display_name": "Python",
   "language": "python",
   "name": "conda-env-python-py"
  },
  "language_info": {
   "codemirror_mode": {
    "name": "ipython",
    "version": 3
   },
   "file_extension": ".py",
   "mimetype": "text/x-python",
   "name": "python",
   "nbconvert_exporter": "python",
   "pygments_lexer": "ipython3",
   "version": "3.7.12"
  }
 },
 "nbformat": 4,
 "nbformat_minor": 5
}
